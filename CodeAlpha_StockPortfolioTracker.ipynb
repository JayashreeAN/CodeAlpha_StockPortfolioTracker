{
  "nbformat": 4,
  "nbformat_minor": 0,
  "metadata": {
    "colab": {
      "provenance": []
    },
    "kernelspec": {
      "name": "python3",
      "display_name": "Python 3"
    },
    "language_info": {
      "name": "python"
    }
  },
  "cells": [
    {
      "cell_type": "code",
      "source": [
        "stock_prices = {\n",
        "    \"AAPL\": 180,\n",
        "    \"TSLA\": 250,\n",
        "    \"GOOGL\": 2800,\n",
        "    \"AMZN\": 3500,\n",
        "    \"MSFT\": 320\n",
        "}\n",
        "\n",
        "portfolio = {}\n",
        "num_stocks = int(input(\"How many different stocks do you want to enter? \"))\n",
        "\n",
        "for i in range(num_stocks):\n",
        "    stock = input(f\"\\nEnter stock name {i+1}: \").upper()\n",
        "    if stock not in stock_prices:\n",
        "        print(f\"{stock} not found in available stock list.\")\n",
        "        continue\n",
        "    qty = int(input(f\"Enter quantity of {stock}: \"))\n",
        "    portfolio[stock] = qty\n",
        "\n",
        "print(\"\\n--- Portfolio Summary ---\")\n",
        "total_value = 0\n",
        "\n",
        "for stock, qty in portfolio.items():\n",
        "    price = stock_prices[stock]\n",
        "    investment = price * qty\n",
        "    total_value += investment\n",
        "    print(f\"{stock}: {qty} shares x ₹{price} = ₹{investment}\")\n",
        "\n",
        "print(f\"\\nTotal Portfolio Value: ₹{total_value}\")\n"
      ],
      "metadata": {
        "id": "1YCYd6culk36",
        "colab": {
          "base_uri": "https://localhost:8080/"
        },
        "outputId": "077e5f47-cc22-462d-8967-c55ee0691e9a"
      },
      "execution_count": 8,
      "outputs": [
        {
          "output_type": "stream",
          "name": "stdout",
          "text": [
            "How many different stocks do you want to enter? 4\n",
            "\n",
            "Enter stock name 1: AAPL\n",
            "Enter quantity of AAPL: 2\n",
            "\n",
            "Enter stock name 2: TSLA\n",
            "Enter quantity of TSLA: 4\n",
            "\n",
            "Enter stock name 3: GOOGL\n",
            "Enter quantity of GOOGL: 5\n",
            "\n",
            "Enter stock name 4: MSFT\n",
            "Enter quantity of MSFT: 3\n",
            "\n",
            "--- Portfolio Summary ---\n",
            "AAPL: 2 shares x ₹180 = ₹360\n",
            "TSLA: 4 shares x ₹250 = ₹1000\n",
            "GOOGL: 5 shares x ₹2800 = ₹14000\n",
            "MSFT: 3 shares x ₹320 = ₹960\n",
            "\n",
            "Total Portfolio Value: ₹16320\n"
          ]
        }
      ]
    },
    {
      "cell_type": "code",
      "source": [
        "import csv\n",
        "with open(\"portfolio_summary.csv\", \"w\", newline=\"\") as file:\n",
        "    writer = csv.writer(file)\n",
        "    writer.writerow([\"Stock\", \"Quantity\", \"Price\", \"Investment\"])\n",
        "    for stock, qty in portfolio.items():\n",
        "        price = stock_prices[stock]\n",
        "        investment = price * qty\n",
        "        writer.writerow([stock, qty, price, investment])\n",
        "    writer.writerow([\"\", \"\", \"Total\", total_value])\n",
        "print(\"\\nPortfolio summary saved as 'portfolio_summary.csv'\")"
      ],
      "metadata": {
        "colab": {
          "base_uri": "https://localhost:8080/"
        },
        "id": "Wn_7FW1MrXih",
        "outputId": "cd845ac0-d517-426c-ff28-91fccc5612c7"
      },
      "execution_count": 9,
      "outputs": [
        {
          "output_type": "stream",
          "name": "stdout",
          "text": [
            "\n",
            "Portfolio summary saved as 'portfolio_summary.csv'\n"
          ]
        }
      ]
    },
    {
      "cell_type": "code",
      "source": [],
      "metadata": {
        "id": "Rq4r8XhZskWg"
      },
      "execution_count": null,
      "outputs": []
    }
  ]
}